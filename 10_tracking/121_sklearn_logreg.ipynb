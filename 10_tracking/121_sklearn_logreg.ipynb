{
 "cells": [
  {
   "cell_type": "code",
   "execution_count": null,
   "metadata": {},
   "outputs": [],
   "source": [
    "from __future__ import print_function\n",
    "\n",
    "import numpy as np\n",
    "from sklearn import datasets\n",
    "from sklearn.model_selection import train_test_split\n",
    "from sklearn.linear_model import LogisticRegression\n",
    "\n",
    "import mlflow"
   ]
  },
  {
   "cell_type": "markdown",
   "metadata": {},
   "source": [
    "**Tasks**\n",
    "* set and print tracking URI\n",
    "* define experiment name and set it in tracking server\n",
    "* get experiment ID"
   ]
  },
  {
   "cell_type": "code",
   "execution_count": null,
   "metadata": {
    "scrolled": true
   },
   "outputs": [],
   "source": []
  },
  {
   "cell_type": "code",
   "execution_count": null,
   "metadata": {},
   "outputs": [],
   "source": [
    "np.random.seed(137)"
   ]
  },
  {
   "cell_type": "code",
   "execution_count": null,
   "metadata": {},
   "outputs": [],
   "source": [
    "X, y = datasets.make_classification(n_samples=1000, \n",
    "                                    n_features=2,\n",
    "                                    n_informative=2,\n",
    "                                    n_redundant=0,\n",
    "                                    n_repeated=0,\n",
    "                                    n_classes=2)"
   ]
  },
  {
   "cell_type": "markdown",
   "metadata": {},
   "source": [
    "**Tasks**: modify run function\n",
    "* add new run to tracking server\n",
    "* log metrics and hyperparameters\n",
    "* add different metrics, create and log confusion matrix, ROC curve"
   ]
  },
  {
   "cell_type": "code",
   "execution_count": null,
   "metadata": {},
   "outputs": [],
   "source": [
    "def run(X, y, penalty='l2'):\n",
    "    \n",
    "    solver = \"saga\"\n",
    "    if penalty is \"elasticnet\":\n",
    "        l1_ratio = 0.5\n",
    "    else:\n",
    "        l1_ratio = None\n",
    "    \n",
    "    X_train, X_test, y_train, y_test = train_test_split(X, y, random_state=42)\n",
    "    \n",
    "    lr = LogisticRegression(penalty=penalty, solver=solver, l1_ratio=l1_ratio)\n",
    "    lr.fit(X_train, y_train)\n",
    "    score_train = lr.score(X_train, y_train)\n",
    "    score_test = lr.score(X_test, y_test)\n",
    "    \n",
    "    print(\"hyperparameters: \", lr.get_params())\n",
    "    print(\"train score: \", score_train)\n",
    "    print(\"test score: \", score_test)"
   ]
  },
  {
   "cell_type": "code",
   "execution_count": null,
   "metadata": {
    "scrolled": false
   },
   "outputs": [],
   "source": [
    "run(X, y, \"l2\")"
   ]
  },
  {
   "cell_type": "code",
   "execution_count": null,
   "metadata": {},
   "outputs": [],
   "source": [
    "run(X, y, \"l1\")"
   ]
  },
  {
   "cell_type": "code",
   "execution_count": null,
   "metadata": {},
   "outputs": [],
   "source": [
    "run(X, y, \"elasticnet\")"
   ]
  },
  {
   "cell_type": "code",
   "execution_count": null,
   "metadata": {},
   "outputs": [],
   "source": []
  }
 ],
 "metadata": {
  "@webio": {
   "lastCommId": null,
   "lastKernelId": null
  },
  "kernelspec": {
   "display_name": "Python (MLflow sklearn)",
   "language": "python",
   "name": "mlflow_sklearn"
  },
  "language_info": {
   "codemirror_mode": {
    "name": "ipython",
    "version": 3
   },
   "file_extension": ".py",
   "mimetype": "text/x-python",
   "name": "python",
   "nbconvert_exporter": "python",
   "pygments_lexer": "ipython3",
   "version": "3.7.6"
  }
 },
 "nbformat": 4,
 "nbformat_minor": 2
}
