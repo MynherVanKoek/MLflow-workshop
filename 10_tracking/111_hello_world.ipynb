{
 "cells": [
  {
   "cell_type": "markdown",
   "metadata": {},
   "source": [
    "# First Experiment: Hello World"
   ]
  },
  {
   "cell_type": "markdown",
   "metadata": {},
   "source": [
    "**Task**: Complete this notebook to allow for the `run` function to log all entities. More detailed instructions will be given below."
   ]
  },
  {
   "cell_type": "code",
   "execution_count": null,
   "metadata": {},
   "outputs": [],
   "source": [
    "from __future__ import print_function\n",
    "import time\n",
    "import mlflow"
   ]
  },
  {
   "cell_type": "code",
   "execution_count": null,
   "metadata": {},
   "outputs": [],
   "source": [
    "print(\"MLflow Version: \", mlflow.version.VERSION)\n",
    "\n",
    "mlflow.set_tracking_uri(\"http://localhost:5000\")\n",
    "print(\"Tracking URI: \", mlflow.tracking.get_tracking_uri())"
   ]
  },
  {
   "cell_type": "markdown",
   "metadata": {},
   "source": [
    "* set experiment\n",
    "* get experiment ID (through MlflowClient class)"
   ]
  },
  {
   "cell_type": "code",
   "execution_count": null,
   "metadata": {},
   "outputs": [],
   "source": [
    "experiment_name = \"hello_world\"\n",
    "print(\"experiment_name: \", experiment_name)\n",
    "...\n",
    "\n",
    "print(\"experiment_id: \", experiment_id)\n",
    "\n",
    "now = int(time.time()+.5)"
   ]
  },
  {
   "cell_type": "markdown",
   "metadata": {},
   "source": [
    "Complete `run` function. Its purpose is\n",
    "* to log alpha, an arbitraty metric of your choice, and the run_origin and log_artifact parameters as tags to MLflow\n",
    "* to log the artifact info.txt if log_artifact is True\n",
    "* log multiple entities at once (log_batch method of MlflowClient class)"
   ]
  },
  {
   "cell_type": "code",
   "execution_count": null,
   "metadata": {},
   "outputs": [],
   "source": [
    "# run function w/ three parameters alpha, run_origin, log_artifact\n",
    "def run(alpha, run_origin, log_artifact):\n",
    "\n",
    "    # create run context for tracking\n",
    "    with mlflow.start_run(run_name=run_origin) as run:\n",
    "        # Print info to CLI: run ID, artifact URI, alpha, log_artifact, run_origin\n",
    "        print(\"runId: \", run.info.run_id)\n",
    "        print(\"artifact_uri: \", mlflow.get_artifact_uri())\n",
    "        print(\"alpha: \", alpha)\n",
    "        print(\"log_artifact: \", log_artifact)\n",
    "        print(\"run_origin: \", run_origin)\n",
    "\n",
    "        # Log to MLflow server: alpha as parameter, metric of own choice, run_origin and\n",
    "        # log_artifact as tags\n",
    "        ...\n",
    "\n",
    "        # If log_artifact is True, then create info.txt file and log it\n",
    "        if log_artifact:\n",
    "            with open(\"info.txt\", \"w\") as f:\n",
    "                f.write(\"Hi artifact\")\n",
    "            mlflow.log_artifact(\"info.txt\")\n",
    "\n",
    "        # Use log_batch method of MlflowClient class to log multiple entities at once: Param,\n",
    "        # Metric, and RunTag of mlflow.entities w/ values of own choice\n",
    "        ..."
   ]
  },
  {
   "cell_type": "code",
   "execution_count": null,
   "metadata": {},
   "outputs": [],
   "source": [
    "run(\"0.1\", \"jupyter\", True)"
   ]
  },
  {
   "cell_type": "code",
   "execution_count": null,
   "metadata": {},
   "outputs": [],
   "source": [
    "run(\"0.5\", \"jupyter\", True)"
   ]
  },
  {
   "cell_type": "code",
   "execution_count": null,
   "metadata": {},
   "outputs": [],
   "source": [
    "run(\"0.01\", \"jupyter\", False)"
   ]
  }
 ],
 "metadata": {
  "@webio": {
   "lastCommId": null,
   "lastKernelId": null
  },
  "kernelspec": {
   "display_name": "Python (MLflow sklearn)",
   "language": "python",
   "name": "mlflow_sklearn"
  },
  "language_info": {
   "codemirror_mode": {
    "name": "ipython",
    "version": 3
   },
   "file_extension": ".py",
   "mimetype": "text/x-python",
   "name": "python",
   "nbconvert_exporter": "python",
   "pygments_lexer": "ipython3",
   "version": "3.7.6"
  }
 },
 "nbformat": 4,
 "nbformat_minor": 2
}
