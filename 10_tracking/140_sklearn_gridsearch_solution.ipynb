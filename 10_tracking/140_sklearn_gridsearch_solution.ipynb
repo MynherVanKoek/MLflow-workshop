{
 "cells": [
  {
   "cell_type": "code",
   "execution_count": null,
   "metadata": {},
   "outputs": [],
   "source": [
    "from sklearn import svm, datasets\n",
    "from sklearn.model_selection import GridSearchCV\n",
    "\n",
    "import mlflow"
   ]
  },
  {
   "cell_type": "code",
   "execution_count": null,
   "metadata": {},
   "outputs": [],
   "source": [
    "mlflow.set_tracking_uri(\"http://localhost:5000\")\n",
    "print(\"Tracking URI: \", mlflow.tracking.get_tracking_uri())"
   ]
  },
  {
   "cell_type": "code",
   "execution_count": null,
   "metadata": {},
   "outputs": [],
   "source": [
    "experiment_name = \"sklearn_iris_data\"\n",
    "print(\"experiment_name: \", experiment_name)\n",
    "mlflow.set_experiment(experiment_name)\n",
    "\n",
    "client = mlflow.tracking.MlflowClient()\n",
    "experiment_id = client.get_experiment_by_name(experiment_name).experiment_id\n",
    "print(\"experiment_id: \", experiment_id)"
   ]
  },
  {
   "cell_type": "code",
   "execution_count": null,
   "metadata": {},
   "outputs": [],
   "source": [
    "iris = datasets.load_iris()\n",
    "parameters = {'kernel':('linear', 'rbf'), 'C':[1, 10]}"
   ]
  },
  {
   "cell_type": "code",
   "execution_count": null,
   "metadata": {},
   "outputs": [],
   "source": [
    "svc = svm.SVC()\n",
    "clf = GridSearchCV(svc, parameters, return_train_score=True)\n",
    "clf.fit(iris.data, iris.target)\n",
    "clf.cv_results_"
   ]
  },
  {
   "cell_type": "code",
   "execution_count": null,
   "metadata": {},
   "outputs": [],
   "source": [
    "for idx, pd in enumerate(clf.cv_results_[\"params\"]):\n",
    "    with mlflow.start_run(run_name=\"jupyter\") as run:\n",
    "        mlflow.log_params(pd)\n",
    "        mlflow.log_metric(\"mean_train_score\", clf.cv_results_[\"mean_train_score\"][idx])\n",
    "        mlflow.log_metric(\"std_train_score\", clf.cv_results_[\"std_train_score\"][idx])\n",
    "        mlflow.log_metric(\"mean_test_score\", clf.cv_results_[\"mean_test_score\"][idx])\n",
    "        mlflow.log_metric(\"std_test_score\", clf.cv_results_[\"std_test_score\"][idx])"
   ]
  }
 ],
 "metadata": {
  "kernelspec": {
   "display_name": "Python (MLflow sklearn)",
   "language": "python",
   "name": "mlflow_sklearn"
  },
  "language_info": {
   "codemirror_mode": {
    "name": "ipython",
    "version": 3
   },
   "file_extension": ".py",
   "mimetype": "text/x-python",
   "name": "python",
   "nbconvert_exporter": "python",
   "pygments_lexer": "ipython3",
   "version": "3.7.6"
  }
 },
 "nbformat": 4,
 "nbformat_minor": 4
}
