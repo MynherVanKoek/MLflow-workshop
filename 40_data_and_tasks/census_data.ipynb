{
 "cells": [
  {
   "cell_type": "markdown",
   "metadata": {},
   "source": [
    "# Using census data to predict income levels\n",
    "\n",
    "Use the `adult.data.csv` data set in the `data` folder to predict the income level based on the other available features. For more information on the data set inspect https://archive.ics.uci.edu/ml/datasets/adult."
   ]
  },
  {
   "cell_type": "code",
   "execution_count": null,
   "metadata": {},
   "outputs": [],
   "source": [
    "import pandas as pd\n",
    "\n",
    "DATA_PATH = './data/'\n",
    "\n",
    "df = pd.read_csv(DATA_PATH + 'adult.data.csv')\n",
    "df.columns = ['age', 'workclass', 'fnlwgt', 'education', 'education_num',\n",
    "              'marital_status', 'occupation', 'relationship', 'race', 'sex',\n",
    "              'capital_gain', 'capital_loss', 'hours_per_week',\n",
    "              'native_country', 'income_level']"
   ]
  }
 ],
 "metadata": {
  "@webio": {
   "lastCommId": null,
   "lastKernelId": null
  },
  "kernelspec": {
   "display_name": "Python (MLflow sklearn)",
   "language": "python",
   "name": "mlflow_sklearn"
  },
  "language_info": {
   "codemirror_mode": {
    "name": "ipython",
    "version": 3
   },
   "file_extension": ".py",
   "mimetype": "text/x-python",
   "name": "python",
   "nbconvert_exporter": "python",
   "pygments_lexer": "ipython3",
   "version": "3.6.10"
  }
 },
 "nbformat": 4,
 "nbformat_minor": 2
}
