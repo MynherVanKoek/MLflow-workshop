{
 "cells": [
  {
   "cell_type": "markdown",
   "metadata": {},
   "source": [
    "# Using breast cancer data to predict cancer diagnosis\n",
    "\n",
    "Use the `wdbc.data.csv` data set in the `data` folder to predict the cancer diagnosis based on the other available features. For more information on the data set inspect https://archive.ics.uci.edu/ml/datasets/Breast+Cancer+Wisconsin+%28Diagnostic%29."
   ]
  },
  {
   "cell_type": "code",
   "execution_count": null,
   "metadata": {},
   "outputs": [],
   "source": [
    "import pandas as pd\n",
    "\n",
    "DATA_PATH = './data/'\n",
    "\n",
    "df = pd.read_csv(DATA_PATH + 'wdbc.data.csv')\n",
    "df.columns = [...]"
   ]
  }
 ],
 "metadata": {
  "kernelspec": {
   "display_name": "Python (MLflow sklearn)",
   "language": "python",
   "name": "mlflow_sklearn"
  },
  "language_info": {
   "codemirror_mode": {
    "name": "ipython",
    "version": 3
   },
   "file_extension": ".py",
   "mimetype": "text/x-python",
   "name": "python",
   "nbconvert_exporter": "python",
   "pygments_lexer": "ipython3",
   "version": "3.6.10"
  }
 },
 "nbformat": 4,
 "nbformat_minor": 2
}
