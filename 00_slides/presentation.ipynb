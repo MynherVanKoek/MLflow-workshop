{
 "cells": [
  {
   "cell_type": "markdown",
   "metadata": {
    "slideshow": {
     "slide_type": "slide"
    }
   },
   "source": [
    "# Introduction to <img src=\"MLflow-logo-black.png\" width=\"40%\" height=\"40%\" align=\"middle\"> Managing the ML lifecycle from experimentation to deployment\n",
    "\n",
    "Workshop by Sebastian Herold"
   ]
  },
  {
   "cell_type": "markdown",
   "metadata": {
    "slideshow": {
     "slide_type": "slide"
    }
   },
   "source": [
    "# Survey, expectations\n",
    "\n",
    "* Which experiences with model management do you have?\n",
    "* Which tools do you use?\n",
    "* What issues do you face during the model development or the whole machine learning lifecycle where model management can help you?\n",
    "* What functionalities do you expect from a model management tool?"
   ]
  },
  {
   "cell_type": "markdown",
   "metadata": {
    "slideshow": {
     "slide_type": "slide"
    }
   },
   "source": [
    "# Overview on MLflow\n",
    "* Open source platform for managing end-to-end machine learning lifecycle\n",
    "* Three primary functions:\n",
    "  * Tracking experiments to record and compare parameters and results\n",
    "  * Packaging ML code in a reusable, reproducible form\n",
    "  * Managing and deploying models\n",
    "* library-agnostic: can be used with any ML library, in any programming language, project includes a REST API, Python API, R API, and Java API.\n",
    "\n",
    "In this workshop, we will discuss MLflow's three components: *MLflow Tracking*, *MLflow Projects*, and *MLflow Models*."
   ]
  },
  {
   "cell_type": "markdown",
   "metadata": {
    "slideshow": {
     "slide_type": "slide"
    }
   },
   "source": [
    "# MLflow Tracking\n",
    "API and UI for logging parameters, code versions, metrics, and artifacts when running machine learning code and for later visualizing the results"
   ]
  },
  {
   "cell_type": "markdown",
   "metadata": {
    "slideshow": {
     "slide_type": "subslide"
    }
   },
   "source": [
    "## Setup\n",
    "* e.g., on Windows\n",
    "  \n",
    "    ```bash\n",
    "    mlflow_server\\Scripts\\activate\n",
    "    mlflow server \\\n",
    "        --host 0.0.0.0 \\\n",
    "        --port 5000 \\\n",
    "        --backend-store-uri file:///%cd%\\mlruns \\\n",
    "        --default-artifact-root file:/%cd%\\mlruns\n",
    "    ```\n",
    "* Unix, Docker: see repo\n",
    "* Backends, artifact stores: [MLflow docs](https://www.mlflow.org/docs/latest/tracking.html#mlflow-tracking-servers)\n",
    "* UI: http://localhost:5000"
   ]
  },
  {
   "cell_type": "markdown",
   "metadata": {
    "slideshow": {
     "slide_type": "subslide"
    }
   },
   "source": [
    "## Python API Logging Functions\n",
    "### High-level\n",
    "\n",
    "`import mlflow`\n",
    "\n",
    "Tracking URI  \n",
    "`mlflow.set_tracking_uri(\"<URI>\")`  \n",
    "`mlflow.tracking.get_tracking_uri()`\n",
    "\n",
    "Experiments  \n",
    "`mlflow.create_experiment(\"<EXPERIMENT_NAME>\")`  \n",
    "`mlflow.set_experiment(\"<EXPERIMENT_NAME>\")`\n",
    "\n",
    "Runs  \n",
    "`mlflow.start_run()`  \n",
    "`mlflow.end_run()`"
   ]
  },
  {
   "cell_type": "markdown",
   "metadata": {
    "slideshow": {
     "slide_type": "subslide"
    }
   },
   "source": [
    "## Python API Logging Functions\n",
    "### High-level\n",
    "\n",
    "Logging and tags  \n",
    "`mlflow.log_param(\"<PARNAME>\", \"<PARVALUE>\")`  \n",
    "`mlflow.log_params(<PARDICT>)`\n",
    "\n",
    "`mlflow.log_metric(\"<METRICNAME>\", <METRICVALUE>)`  \n",
    "`mlflow.log_metrics(<METRICDICT>)`\n",
    "\n",
    "`mlflow.set_tag(\"<TAGNAME>\", \"<TAGVALUE>\")`  \n",
    "`mlflow.set_tags(<TAGDICT>)`\n",
    "\n",
    "`mlflow.log_artifact(\"<LOCALPATH>\")`  \n",
    "`mlflow.log_artifacts(\"<LOCALDIR>\")`"
   ]
  },
  {
   "cell_type": "markdown",
   "metadata": {
    "slideshow": {
     "slide_type": "subslide"
    }
   },
   "source": [
    "## Python API Logging Functions\n",
    "### Low-level\n",
    "\n",
    "`import mlflow.tracking`\n",
    "\n",
    "`mlflow.tracking.MLflowClient()`  \n",
    "  `.create_experiment()`  \n",
    "  `.create_run()`  \n",
    "  `.download_artifacts()`  \n",
    "  `.get_experiment()` and `.get_experiment_by_name()`  \n",
    "  `.get_run()`  \n",
    "  `.list_artifacts()`  \n",
    "  `.list_experiments()`  \n",
    "  `.log_artifact()` and `.log_artifacts()`  \n",
    "  `.log_metric()`  \n",
    "  `.log_param()`  \n",
    "  `.log_batch()`"
   ]
  },
  {
   "cell_type": "markdown",
   "metadata": {
    "slideshow": {
     "slide_type": "subslide"
    }
   },
   "source": [
    "## So let's get started"
   ]
  },
  {
   "cell_type": "markdown",
   "metadata": {
    "slideshow": {
     "slide_type": "slide"
    }
   },
   "source": [
    "# MLflow Projects\n",
    "\n",
    "Standard format for packaging reusable data science code."
   ]
  },
  {
   "cell_type": "markdown",
   "metadata": {
    "slideshow": {
     "slide_type": "subslide"
    }
   },
   "source": [
    "## Setup\n",
    "* Directory with code or a Git repository, including descriptor file or simply convention to specify dependencies and how to run code\n",
    "* [Template Folder](https://github.com/MynherVanKoek/AMLD_2020_MLflow/tree/master/20_projects/200_mlflow_project_template)"
   ]
  },
  {
   "cell_type": "markdown",
   "metadata": {
    "slideshow": {
     "slide_type": "subslide"
    }
   },
   "source": [
    "## Running the project\n",
    "\n",
    "`mlflow run <FOLDER> [<ARGUMENTS>]`\n",
    "\n",
    "**Windows Users:** Follow additional instructions prior to running code."
   ]
  },
  {
   "cell_type": "markdown",
   "metadata": {
    "slideshow": {
     "slide_type": "subslide"
    }
   },
   "source": [
    "## Hands-on, part two"
   ]
  },
  {
   "cell_type": "markdown",
   "metadata": {
    "slideshow": {
     "slide_type": "slide"
    }
   },
   "source": [
    "# MLflow Models\n",
    "Convention for packaging machine learning models in multiple flavors and providing a variety of tools to deploy these models"
   ]
  },
  {
   "cell_type": "markdown",
   "metadata": {
    "slideshow": {
     "slide_type": "subslide"
    }
   },
   "source": [
    "## MLflow's way of storing models\n",
    "```bash\n",
    "# Directory written by mlflow.sklearn.save_model(model, \"my_model\")\n",
    "my_model/\n",
    "├── MLmodel\n",
    "└── model.pkl\n",
    "```\n",
    "\n",
    "`MLmodel` file\n",
    "```yaml\n",
    "utc_time_created: '2019-12-28 07:13:54.587332'\n",
    "run_id: 5c37ed12cb5a4cd68ddeec596482db6f\n",
    "artifact_path: model\n",
    "flavors:\n",
    "  python_function:\n",
    "    data: model.pkl\n",
    "    env: conda.yaml\n",
    "    loader_module: mlflow.sklearn\n",
    "    python_version: 3.6.5\n",
    "  sklearn:\n",
    "    pickled_model: model.pkl\n",
    "    serialization_format: cloudpickle\n",
    "    sklearn_version: '0.22'\n",
    "```"
   ]
  },
  {
   "cell_type": "markdown",
   "metadata": {
    "slideshow": {
     "slide_type": "subslide"
    }
   },
   "source": [
    "## Flavors\n",
    "For example:\n",
    "* Python Function (`python_function`)\n",
    "* Keras (`keras`)\n",
    "* PyTorch (`pytorch`)\n",
    "* Scikit-learn (`sklearn`)\n",
    "* Spark MLlib (`spark`)\n",
    "* TensorFlow (`tensorflow`)"
   ]
  },
  {
   "cell_type": "markdown",
   "metadata": {
    "slideshow": {
     "slide_type": "subslide"
    }
   },
   "source": [
    "## MLflow Model Python API\n",
    "\n",
    "* `mlflow.<FLAVOR>.save_model(<MODEL>, \"<LOCALPATH>\")`\n",
    "* `mlflow.<FLAVOR>.log_model(<MODEL>, \"<ARTIFACTPATH>\")`\n",
    "* `mlflow.<FLAVOR>.load_model(\"<MODELURI>\")`\n",
    "* `mlflow.<FLAVOR>.autolog()`"
   ]
  },
  {
   "cell_type": "markdown",
   "metadata": {
    "slideshow": {
     "slide_type": "subslide"
    }
   },
   "source": [
    "## Deployment\n",
    "MLflow provides tools for deploying MLflow models on a local machine or to several production environments. Currently, these are\n",
    "* deployment of MLflow Models\n",
    "* deployment of a `python_function` model on Microsoft Azure ML\n",
    "* deployment of a `python_function` model on Amazon SageMaker\n",
    "* export of a `python_function` model as an Apache Spark UDF"
   ]
  },
  {
   "cell_type": "markdown",
   "metadata": {
    "slideshow": {
     "slide_type": "subslide"
    }
   },
   "source": [
    "## Deployment of MLflow Models\n",
    "\n",
    "* Creating a REST API server:\n",
    "  `mlflow models serve [<Arguments>]`\n",
    "  \n",
    "  \n",
    "* Getting predictions: call `/invocations` endpoint with POST request, e.g., by using `curl`:\n",
    "    ```bash\n",
    "    # split-oriented\n",
    "    curl http://localhost:<PORT>/invocations \\\n",
    "        -H 'Content-Type: application/json; format=pandas-split' \\\n",
    "        -d '{\n",
    "        \"columns\": [\"a\", \"b\", \"c\"],\n",
    "        \"data\": [[1, 2, 3], [4, 5, 6]]\n",
    "        }'\n",
    "    ```"
   ]
  },
  {
   "cell_type": "markdown",
   "metadata": {
    "slideshow": {
     "slide_type": "subslide"
    }
   },
   "source": [
    "## So, let's deploy some MLflow Models    "
   ]
  }
 ],
 "metadata": {
  "@webio": {
   "lastCommId": null,
   "lastKernelId": null
  },
  "celltoolbar": "Slideshow",
  "kernelspec": {
   "display_name": "Python (MLflow sklearn conda)",
   "language": "python",
   "name": "mlflow_sklearn_conda"
  },
  "language_info": {
   "codemirror_mode": {
    "name": "ipython",
    "version": 3
   },
   "file_extension": ".py",
   "mimetype": "text/x-python",
   "name": "python",
   "nbconvert_exporter": "python",
   "pygments_lexer": "ipython3",
   "version": "3.7.7"
  }
 },
 "nbformat": 4,
 "nbformat_minor": 4
}
